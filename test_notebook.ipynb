{
 "nbformat": 4,
 "nbformat_minor": 5,
 "metadata": {
  "kernelspec": {
   "display_name": "Python 3",
   "language": "python",
   "name": "python3"
  },
  "language_info": {
   "codemirror_mode": {
    "name": "ipython",
    "version": 3
   },
   "file_extension": ".py",
   "mimetype": "text/x-python",
   "name": "python",
   "nbconvert_exporter": "python",
   "pygments_lexer": "ipython3",
   "version": "3.8.8"
  },
  "colab": {
   "name": "Copy of test_notebook.ipynb",
   "provenance": [],
   "collapsed_sections": []
  }
 },
 "cells": [
  {
   "cell_type": "markdown",
   "metadata": {
    "id": "R_CSeWctXTkU"
   },
   "source": [
    "# Preperation"
   ],
   "id": "R_CSeWctXTkU"
  },
  {
   "cell_type": "markdown",
   "metadata": {
    "id": "6DORZ2ML7ctV"
   },
   "source": [
    "## Directory and imports"
   ],
   "id": "6DORZ2ML7ctV"
  },
  {
   "cell_type": "code",
   "metadata": {
    "colab": {
     "base_uri": "https://localhost:8080/"
    },
    "id": "46bd8eef-db8d-4bc4-afb5-36a693da3048",
    "outputId": "200d1917-2b4f-4419-dc77-fb4ec86b252e"
   },
   "source": [
    "from google.colab import drive\n",
    "drive.mount('/gdrive')\n",
    "%cd /gdrive/MyDrive/Courses/yearE/ML/ML_2021_quantum_control"
   ],
   "id": "46bd8eef-db8d-4bc4-afb5-36a693da3048",
   "execution_count": 1,
   "outputs": [
    {
     "output_type": "stream",
     "text": [
      "Mounted at /gdrive\n",
      "/gdrive/MyDrive/Courses/yearE/ML/ML_2021_quantum_control\n"
     ],
     "name": "stdout"
    }
   ]
  },
  {
   "cell_type": "code",
   "metadata": {
    "colab": {
     "base_uri": "https://localhost:8080/"
    },
    "id": "YieS78DMVTWC",
    "outputId": "252d7e03-d0c8-416b-cbc1-8398aa8c37b7"
   },
   "source": [
    "!pip install qutip"
   ],
   "id": "YieS78DMVTWC",
   "execution_count": 2,
   "outputs": [
    {
     "output_type": "stream",
     "text": [
      "Collecting qutip\n",
      "  Downloading qutip-4.6.2-cp37-cp37m-manylinux2010_x86_64.whl (14.6 MB)\n",
      "\u001B[K     |████████████████████████████████| 14.6 MB 10 kB/s \n",
      "\u001B[?25hRequirement already satisfied: scipy>=1.0 in /usr/local/lib/python3.7/dist-packages (from qutip) (1.4.1)\n",
      "Requirement already satisfied: numpy>=1.16.6 in /usr/local/lib/python3.7/dist-packages (from qutip) (1.19.5)\n",
      "Requirement already satisfied: packaging in /usr/local/lib/python3.7/dist-packages (from qutip) (21.0)\n",
      "Requirement already satisfied: pyparsing>=2.0.2 in /usr/local/lib/python3.7/dist-packages (from packaging->qutip) (2.4.7)\n",
      "Installing collected packages: qutip\n",
      "Successfully installed qutip-4.6.2\n"
     ],
     "name": "stdout"
    }
   ]
  },
  {
   "cell_type": "code",
   "metadata": {
    "id": "tCvDMh13m5XK"
   },
   "source": [
    "%load_ext autoreload\n",
    "%autoreload 2"
   ],
   "id": "tCvDMh13m5XK",
   "execution_count": 3,
   "outputs": []
  },
  {
   "cell_type": "markdown",
   "metadata": {
    "id": "_i_Sqa0h8jDD"
   },
   "source": [
    "# Training"
   ],
   "id": "_i_Sqa0h8jDD"
  },
  {
   "cell_type": "markdown",
   "metadata": {
    "id": "Ll9q-173XOzy"
   },
   "source": [
    "## Imports"
   ],
   "id": "Ll9q-173XOzy"
  },
  {
   "cell_type": "code",
   "metadata": {
    "id": "XekHLrsr9SOL"
   },
   "source": [
    "from DataLoader import GamesMemoryBank\n",
    "from policy_loss import PolicyLoss\n",
    "from Model import PolicyNetwork\n",
    "from simulation import QuantumEnvironment \n",
    "\n",
    "import torch\n",
    "from torch.utils.data import Dataset, DataLoader, RandomSampler\n",
    "from tqdm import tqdm\n",
    "from IPython.display import clear_output\n",
    "import matplotlib.pyplot as plt\n",
    "import numpy as np"
   ],
   "id": "XekHLrsr9SOL",
   "execution_count": 4,
   "outputs": []
  },
  {
   "cell_type": "markdown",
   "metadata": {
    "id": "Jqtfoa8qZJ3E"
   },
   "source": [
    "## Initialization"
   ],
   "id": "Jqtfoa8qZJ3E"
  },
  {
   "cell_type": "markdown",
   "metadata": {
    "id": "ztxKbjtXbCMd"
   },
   "source": [
    "### Constants"
   ],
   "id": "ztxKbjtXbCMd"
  },
  {
   "cell_type": "code",
   "metadata": {
    "id": "v7UWy-nUbIez"
   },
   "source": [
    "n_epochs = 100\n",
    "games_per_epoch = 10\n",
    "batch_size = 24000\n",
    "num_batches = 5\n",
    "learning_rate = 1e-3"
   ],
   "id": "v7UWy-nUbIez",
   "execution_count": 5,
   "outputs": []
  },
  {
   "cell_type": "markdown",
   "metadata": {
    "id": "Q9HYxwPmbGN0"
   },
   "source": [
    "### Classes"
   ],
   "id": "Q9HYxwPmbGN0"
  },
  {
   "cell_type": "code",
   "metadata": {
    "id": "QHBuj6YrZMG2"
   },
   "source": [
    "env = QuantumEnvironment(energy_gap=1, runtime=15, dt=0.01, skips=1)\n",
    "\n",
    "loss_func = PolicyLoss()\n",
    "net = PolicyNetwork()\n",
    "\n",
    "model_name = 'trained_model.pt'\n",
    "# If such a previous model exists\n",
    "net.load_state_dict(torch.load(model_name))\n",
    "\n",
    "loss_func = PolicyLoss()\n",
    "memory_bank = GamesMemoryBank()\n",
    "optimizer = torch.optim.Adam(net.parameters(), lr=learning_rate)"
   ],
   "id": "QHBuj6YrZMG2",
   "execution_count": 6,
   "outputs": []
  },
  {
   "cell_type": "markdown",
   "metadata": {
    "id": "1Yzgw63bast-"
   },
   "source": [
    "## Training loop"
   ],
   "id": "1Yzgw63bast-"
  },
  {
   "cell_type": "code",
   "metadata": {
    "colab": {
     "base_uri": "https://localhost:8080/"
    },
    "id": "97CtUujqauYb",
    "outputId": "46f55660-72b2-4d29-e5b8-b5d34d0beabe"
   },
   "source": [
    "final_fidelity = []\n",
    "\n",
    "\n",
    "for epoch in tqdm(range(n_epochs)):\n",
    "    \n",
    "    memory_bank.clear_memory()\n",
    "    \n",
    "    net.eval()\n",
    "    net.cpu()\n",
    "    \n",
    "    for game_i in range(games_per_epoch):\n",
    "\n",
    "        state, prev_state = env.reset(), None\n",
    "\n",
    "        state = torch.tensor(state, dtype=torch.float).unsqueeze(0)\n",
    "        prev_state = state\n",
    "\n",
    "        points_in_game = 0\n",
    "\n",
    "        while True:\n",
    "            with torch.no_grad():\n",
    "                action, action_p = net.sample_action(state)\n",
    "            new_state, reward, done, info = env.step(action + 2)\n",
    "            memory_bank.add_event(state, action, action_p, reward)\n",
    "            \n",
    "            prev_state = state\n",
    "            state = torch.tensor(new_state, dtype=torch.float).view(-1).unsqueeze(0)\n",
    "\n",
    "            if done:\n",
    "                final_fidelity.append(env.fidelity())\n",
    "                break\n",
    "    \n",
    "    \n",
    "    memory_bank.compute_reward_history()\n",
    "    \n",
    "    clear_output(wait=True)\n",
    "    mean_fid = np.mean(final_fidelity[-games_per_epoch:])\n",
    "    mean_fid = str(mean_fid)[:5]\n",
    "    plt.title('epoch ' + str(epoch) \n",
    "                       + ' mean points last ' \n",
    "                       + str(games_per_epoch) \n",
    "                       + ' simulations '\n",
    "                       + mean_fid)\n",
    "    plt.plot(final_fidelity)\n",
    "    plt.ylabel('Fidelity')\n",
    "    plt.show()\n",
    "    \n",
    "\n",
    "    net.train()\n",
    "    \n",
    "    for batch_i in range(num_batches):\n",
    "        optimizer.zero_grad()\n",
    "\n",
    "        state, action, action_p, reward, discounted_reward = memory_bank.get_sample(batch_size)\n",
    "        state = state.view((state.shape[0], 7))\n",
    "        \n",
    "        logits = net(state)\n",
    "\n",
    "        loss = loss_func(logits, action, action_p, discounted_reward)\n",
    "        loss.backward()\n",
    "        optimizer.step()\n",
    "    \n",
    "    torch.save(net.state_dict(), model_name)"
   ],
   "id": "97CtUujqauYb",
   "execution_count": null,
   "outputs": [
    {
     "output_type": "stream",
     "text": [
      "\r  0%|          | 0/100 [00:00<?, ?it/s]/gdrive/MyDrive/Courses/yearE/ML/ML_2021_quantum_control/simulation.py:79: ComplexWarning: Casting complex values to real discards the imaginary part\n",
      "  return [float(x[0][0][0]), float(y[0][0][0]), float(z[0][0][0])]\n"
     ],
     "name": "stderr"
    }
   ]
  },
  {
   "cell_type": "code",
   "metadata": {
    "id": "Z1Rwe1KNjjdO",
    "colab": {
     "base_uri": "https://localhost:8080/"
    },
    "outputId": "dd731e15-2a08-48f4-c669-b84e571a3e2e"
   },
   "source": [
    "state, prev_state = env.reset(), None\n",
    "\n",
    "state = torch.tensor(state, dtype=torch.float).unsqueeze(0)\n",
    "prev_state = state\n",
    "\n",
    "points_in_game = 0\n",
    "\n",
    "z = list()\n",
    "omega = list()\n",
    "\n",
    "while True:\n",
    "    action, action_p = net.sample_action(state)\n",
    "    new_state, reward, done, info = env.step(action + 2)\n",
    "    state = torch.tensor(new_state, dtype=torch.float).view(-1).unsqueeze(0)\n",
    "    z.append(state[0][-1])\n",
    "    omega.append(state[0][3])\n",
    "    if done:\n",
    "      break"
   ],
   "id": "Z1Rwe1KNjjdO",
   "execution_count": null,
   "outputs": [
    {
     "output_type": "stream",
     "text": [
      "/gdrive/MyDrive/Courses/yearE/ML/ML_2021_quantum_control/simulation.py:81: ComplexWarning: Casting complex values to real discards the imaginary part\n",
      "  return [float(x[0][0][0]), float(y[0][0][0]), float(z[0][0][0])]\n"
     ],
     "name": "stderr"
    }
   ]
  },
  {
   "cell_type": "code",
   "metadata": {
    "id": "NJYMqDYLc9dw",
    "colab": {
     "base_uri": "https://localhost:8080/",
     "height": 265
    },
    "outputId": "1c8bf64b-374d-493b-eacf-f710d6cdcfd6"
   },
   "source": [
    "T = np.linspace(0, 15, 1500)\n",
    "\n",
    "plt.plot(T, z, label=\"sigmaz\")\n",
    "plt.plot(T, np.array(omega)/100000, label=\"100K omega\")\n",
    "plt.legend()\n",
    "plt.show()"
   ],
   "id": "NJYMqDYLc9dw",
   "execution_count": null,
   "outputs": [
    {
     "output_type": "display_data",
     "data": {
      "image/png": "[encoded data removed]",
      "text/plain": [
       "<Figure size 432x288 with 1 Axes>"
      ]
     },
     "metadata": {
      "tags": [],
      "needs_background": "light"
     }
    }
   ]
  },
  {
   "cell_type": "code",
   "metadata": {
    "id": "CEM6D7LMcvQb"
   },
   "source": [
    "import numpy as np"
   ],
   "id": "CEM6D7LMcvQb",
   "execution_count": null,
   "outputs": []
  },
  {
   "cell_type": "code",
   "metadata": {
    "id": "7OW5dI-pcv-U"
   },
   "source": [
    "A = np.array([1,2,3,4,5,6])\n",
    "B = np.array([[1],[2],[3],[4],[5],[6]])"
   ],
   "id": "7OW5dI-pcv-U",
   "execution_count": null,
   "outputs": []
  },
  {
   "cell_type": "code",
   "metadata": {
    "colab": {
     "base_uri": "https://localhost:8080/"
    },
    "id": "YktV5fIbc5RU",
    "outputId": "9cad819b-5f1d-4bce-a951-7314354cffbd"
   },
   "source": [
    "A.shape"
   ],
   "id": "YktV5fIbc5RU",
   "execution_count": null,
   "outputs": [
    {
     "output_type": "execute_result",
     "data": {
      "text/plain": [
       "(6,)"
      ]
     },
     "metadata": {
      "tags": []
     },
     "execution_count": 4
    }
   ]
  },
  {
   "cell_type": "code",
   "metadata": {
    "id": "ukKNlGMjc-Cp",
    "colab": {
     "base_uri": "https://localhost:8080/"
    },
    "outputId": "7858b8f9-06ca-434f-8ac6-3bf12b3791a8"
   },
   "source": [
    "B.shape"
   ],
   "id": "ukKNlGMjc-Cp",
   "execution_count": null,
   "outputs": [
    {
     "output_type": "execute_result",
     "data": {
      "text/plain": [
       "(6, 1)"
      ]
     },
     "metadata": {
      "tags": []
     },
     "execution_count": 5
    }
   ]
  },
  {
   "cell_type": "code",
   "metadata": {
    "id": "DJu8Skxhc_C4"
   },
   "source": [
    ""
   ],
   "id": "DJu8Skxhc_C4",
   "execution_count": null,
   "outputs": []
  }
 ]
}