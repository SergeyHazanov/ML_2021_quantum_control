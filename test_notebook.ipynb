{
 "nbformat": 4,
 "nbformat_minor": 5,
 "metadata": {
  "kernelspec": {
   "display_name": "Python 3",
   "language": "python",
   "name": "python3"
  },
  "language_info": {
   "codemirror_mode": {
    "name": "ipython",
    "version": 3
   },
   "file_extension": ".py",
   "mimetype": "text/x-python",
   "name": "python",
   "nbconvert_exporter": "python",
   "pygments_lexer": "ipython3",
   "version": "3.8.8"
  },
  "colab": {
   "name": "Copy of test_notebook.ipynb",
   "provenance": [],
   "collapsed_sections": []
  }
 },
 "cells": [
  {
   "cell_type": "markdown",
   "metadata": {
    "id": "R_CSeWctXTkU"
   },
   "source": [
    "# Preparation"
   ],
   "id": "R_CSeWctXTkU"
  },
  {
   "cell_type": "markdown",
   "metadata": {
    "id": "6DORZ2ML7ctV"
   },
   "source": [
    "## Directory and imports"
   ],
   "id": "6DORZ2ML7ctV"
  },
  {
   "cell_type": "code",
   "metadata": {
    "id": "tCvDMh13m5XK"
   },
   "source": [
    "%load_ext autoreload\n",
    "%autoreload 2"
   ],
   "id": "tCvDMh13m5XK",
   "execution_count": 1,
   "outputs": []
  },
  {
   "cell_type": "markdown",
   "metadata": {
    "id": "_i_Sqa0h8jDD"
   },
   "source": [
    "# Training"
   ],
   "id": "_i_Sqa0h8jDD"
  },
  {
   "cell_type": "markdown",
   "metadata": {
    "id": "Ll9q-173XOzy"
   },
   "source": [
    "## Imports"
   ],
   "id": "Ll9q-173XOzy"
  },
  {
   "cell_type": "code",
   "metadata": {
    "id": "XekHLrsr9SOL"
   },
   "source": [
    "from DataLoader import GamesMemoryBank\n",
    "from policy_loss import PolicyLoss\n",
    "from Model import PolicyNetwork, NET_INPUT_SIZE\n",
    "from simulation import QuantumEnvironment\n",
    "\n",
    "import torch\n",
    "from tqdm import tqdm\n",
    "from IPython.display import clear_output\n",
    "import matplotlib.pyplot as plt\n",
    "import numpy as np\n",
    "from os.path import isfile\n",
    "from scipy.ndimage import uniform_filter1d\n",
    "\n",
    "plt.style.use({'figure.facecolor':'white'})"
   ],
   "id": "XekHLrsr9SOL",
   "execution_count": 2,
   "outputs": []
  },
  {
   "cell_type": "markdown",
   "metadata": {
    "id": "Jqtfoa8qZJ3E"
   },
   "source": [
    "## Initialization"
   ],
   "id": "Jqtfoa8qZJ3E"
  },
  {
   "cell_type": "markdown",
   "metadata": {
    "id": "ztxKbjtXbCMd"
   },
   "source": [
    "### Constants"
   ],
   "id": "ztxKbjtXbCMd"
  },
  {
   "cell_type": "code",
   "metadata": {
    "id": "v7UWy-nUbIez"
   },
   "source": [
    "n_epochs = 100\n",
    "games_per_epoch = 10\n",
    "batch_size = 30000\n",
    "num_batches = 5\n",
    "learning_rate = 1e-3"
   ],
   "id": "v7UWy-nUbIez",
   "execution_count": 3,
   "outputs": []
  },
  {
   "cell_type": "markdown",
   "metadata": {
    "id": "Q9HYxwPmbGN0"
   },
   "source": [
    "### Classes"
   ],
   "id": "Q9HYxwPmbGN0"
  },
  {
   "cell_type": "code",
   "metadata": {
    "id": "QHBuj6YrZMG2"
   },
   "source": [
    "run_time = 10\n",
    "dt = 0.01\n",
    "decay_rate = 0.96\n",
    "\n",
    "env = QuantumEnvironment(energy_gap=1, runtime=run_time, dt=dt)\n",
    "\n",
    "\n",
    "loss_func = PolicyLoss()\n",
    "net = PolicyNetwork()\n",
    "\n",
    "model_name = 'trained_model.pt'\n",
    "# If such a previous model exists\n",
    "# if isfile(model_name):\n",
    "#     net.load_state_dict(torch.load(model_name))\n",
    "\n",
    "memory_bank = GamesMemoryBank()\n",
    "optimizer = torch.optim.Adam(net.parameters(), lr=learning_rate)\n",
    "lr_scheduler = torch.optim.lr_scheduler.ExponentialLR(optimizer=optimizer, gamma=decay_rate)"
   ],
   "id": "QHBuj6YrZMG2",
   "execution_count": 4,
   "outputs": []
  },
  {
   "cell_type": "markdown",
   "metadata": {
    "id": "1Yzgw63bast-"
   },
   "source": [
    "## Training loop"
   ],
   "id": "1Yzgw63bast-"
  },
  {
   "cell_type": "code",
   "metadata": {
    "colab": {
     "base_uri": "https://localhost:8080/"
    },
    "id": "97CtUujqauYb",
    "outputId": "46f55660-72b2-4d29-e5b8-b5d34d0beabe"
   },
   "source": [
    "final_fidelity = []\n",
    "losses = []\n",
    "rewards = []\n",
    "discounted_rewards = []\n",
    "running_time = []\n",
    "\n",
    "for epoch in tqdm(range(n_epochs)):\n",
    "    \n",
    "    memory_bank.clear_memory()\n",
    "    \n",
    "    net.eval()\n",
    "    net.cpu()\n",
    "    \n",
    "    for game_i in range(games_per_epoch):\n",
    "\n",
    "        state, prev_state = env.reset(), None\n",
    "\n",
    "        state = torch.tensor(state, dtype=torch.float).unsqueeze(0)\n",
    "        prev_state = torch.zeros_like(state)\n",
    "\n",
    "        while True:\n",
    "            with torch.no_grad():\n",
    "                action, action_p = net.sample_action(state, prev_state)\n",
    "            new_state, reward, done, info = env.step(action)\n",
    "            memory_bank.add_event(state, prev_state, action, action_p, reward)\n",
    "            \n",
    "            prev_state = state\n",
    "            state = torch.tensor(new_state, dtype=torch.float).view(-1).unsqueeze(0)\n",
    "\n",
    "            if done:\n",
    "                final_fidelity.append(env.fidelity())\n",
    "                running_time.append(env.steps*dt/run_time)\n",
    "                break\n",
    "\n",
    "    memory_bank.compute_reward_history()\n",
    "    \n",
    "    clear_output(wait=True)\n",
    "    mean_fid = np.mean(final_fidelity[-games_per_epoch:])\n",
    "    running_mean_fid = uniform_filter1d(final_fidelity,50)\n",
    "    mean_fid = str(mean_fid)[:5]\n",
    "    plt.title('epoch ' + str(epoch) \n",
    "                       + ' mean points last ' \n",
    "                       + str(games_per_epoch) \n",
    "                       + ' simulations '\n",
    "                       + mean_fid)\n",
    "    plt.plot(final_fidelity, label='Fidelity')\n",
    "    plt.plot(running_mean_fid, label='Running Mean', color='red')\n",
    "    plt.xlabel('Num. of epochs * Num. of games per epoch')\n",
    "    plt.legend()\n",
    "    plt.show()\n",
    "\n",
    "    plt.plot(running_time, label='Running Time', color='black')\n",
    "    plt.xlabel('Num. of epochs * Num. of games per epoch')\n",
    "    plt.legend()\n",
    "    plt.show()\n",
    "\n",
    "    net.train()\n",
    "    \n",
    "    for batch_i in range(num_batches):\n",
    "        optimizer.zero_grad()\n",
    "\n",
    "        state, prev_state, action, action_p, reward, discounted_reward = memory_bank.get_sample(batch_size)\n",
    "        state = state.view((state.shape[0], NET_INPUT_SIZE))\n",
    "        prev_state = prev_state.view((prev_state.shape[0], NET_INPUT_SIZE))\n",
    "        \n",
    "        logits = net(state, prev_state)\n",
    "\n",
    "        loss = loss_func(logits, action, action_p, discounted_reward)\n",
    "        loss.backward()\n",
    "        optimizer.step()\n",
    "\n",
    "        losses.append(loss.item())\n",
    "        rewards.append(torch.mean(reward).item())\n",
    "        discounted_rewards.append(torch.max(discounted_reward).item())\n",
    "    \n",
    "    lr_scheduler.step()\n",
    "    torch.save(net.state_dict(), model_name)\n",
    "\n",
    "    fig, ax = plt.subplots(2,1, sharex=True)\n",
    "    ax[0].plot(losses, label='loss')\n",
    "    # ax[1].plot(rewards, label='reward')\n",
    "    ax[1].plot(discounted_rewards, label='max discounted rewards')\n",
    "    ax[0].legend()\n",
    "    ax[1].legend()\n",
    "    plt.xlabel('Num. of batches * Num. of epochs')\n",
    "    plt.show()"
   ],
   "id": "97CtUujqauYb",
   "execution_count": 5,
   "outputs": [
    {
     "data": {
      "text/plain": "<Figure size 432x288 with 1 Axes>",
      "image/png": "[encoded data removed]"
     },
     "metadata": {},
     "output_type": "display_data"
    },
    {
     "data": {
      "text/plain": "<Figure size 432x288 with 1 Axes>",
      "image/png": "[encoded data removed]"
     },
     "metadata": {},
     "output_type": "display_data"
    },
    {
     "data": {
      "text/plain": "<Figure size 432x288 with 2 Axes>",
      "image/png": "[encoded data removed]"
     },
     "metadata": {},
     "output_type": "display_data"
    },
    {
     "name": "stderr",
     "output_type": "stream",
     "text": [
      "  1%|          | 1/100 [01:20<2:12:30, 80.30s/it]\n"
     ]
    },
    {
     "ename": "KeyboardInterrupt",
     "evalue": "",
     "output_type": "error",
     "traceback": [
      "\u001B[1;31m---------------------------------------------------------------------------\u001B[0m",
      "\u001B[1;31mKeyboardInterrupt\u001B[0m                         Traceback (most recent call last)",
      "\u001B[1;32m<ipython-input-5-b0b095a93d7a>\u001B[0m in \u001B[0;36m<module>\u001B[1;34m\u001B[0m\n\u001B[0;32m     22\u001B[0m             \u001B[1;32mwith\u001B[0m \u001B[0mtorch\u001B[0m\u001B[1;33m.\u001B[0m\u001B[0mno_grad\u001B[0m\u001B[1;33m(\u001B[0m\u001B[1;33m)\u001B[0m\u001B[1;33m:\u001B[0m\u001B[1;33m\u001B[0m\u001B[1;33m\u001B[0m\u001B[0m\n\u001B[0;32m     23\u001B[0m                 \u001B[0maction\u001B[0m\u001B[1;33m,\u001B[0m \u001B[0maction_p\u001B[0m \u001B[1;33m=\u001B[0m \u001B[0mnet\u001B[0m\u001B[1;33m.\u001B[0m\u001B[0msample_action\u001B[0m\u001B[1;33m(\u001B[0m\u001B[0mstate\u001B[0m\u001B[1;33m,\u001B[0m \u001B[0mprev_state\u001B[0m\u001B[1;33m)\u001B[0m\u001B[1;33m\u001B[0m\u001B[1;33m\u001B[0m\u001B[0m\n\u001B[1;32m---> 24\u001B[1;33m             \u001B[0mnew_state\u001B[0m\u001B[1;33m,\u001B[0m \u001B[0mreward\u001B[0m\u001B[1;33m,\u001B[0m \u001B[0mdone\u001B[0m\u001B[1;33m,\u001B[0m \u001B[0minfo\u001B[0m \u001B[1;33m=\u001B[0m \u001B[0menv\u001B[0m\u001B[1;33m.\u001B[0m\u001B[0mstep\u001B[0m\u001B[1;33m(\u001B[0m\u001B[0maction\u001B[0m\u001B[1;33m)\u001B[0m\u001B[1;33m\u001B[0m\u001B[1;33m\u001B[0m\u001B[0m\n\u001B[0m\u001B[0;32m     25\u001B[0m             \u001B[0mmemory_bank\u001B[0m\u001B[1;33m.\u001B[0m\u001B[0madd_event\u001B[0m\u001B[1;33m(\u001B[0m\u001B[0mstate\u001B[0m\u001B[1;33m,\u001B[0m \u001B[0mprev_state\u001B[0m\u001B[1;33m,\u001B[0m \u001B[0maction\u001B[0m\u001B[1;33m,\u001B[0m \u001B[0maction_p\u001B[0m\u001B[1;33m,\u001B[0m \u001B[0mreward\u001B[0m\u001B[1;33m)\u001B[0m\u001B[1;33m\u001B[0m\u001B[1;33m\u001B[0m\u001B[0m\n\u001B[0;32m     26\u001B[0m \u001B[1;33m\u001B[0m\u001B[0m\n",
      "\u001B[1;32mD:\\Daniel\\University\\M.A\\Courses\\Practical ML\\HW\\ML_2021_quantum_control\\simulation.py\u001B[0m in \u001B[0;36mstep\u001B[1;34m(self, action)\u001B[0m\n\u001B[0;32m    110\u001B[0m \u001B[1;33m\u001B[0m\u001B[0m\n\u001B[0;32m    111\u001B[0m         \u001B[1;31m# Maybe remove unit\u001B[0m\u001B[1;33m\u001B[0m\u001B[1;33m\u001B[0m\u001B[1;33m\u001B[0m\u001B[0m\n\u001B[1;32m--> 112\u001B[1;33m         \u001B[0mcurr_fidelity\u001B[0m \u001B[1;33m=\u001B[0m \u001B[0mself\u001B[0m\u001B[1;33m.\u001B[0m\u001B[0mfidelity\u001B[0m\u001B[1;33m(\u001B[0m\u001B[1;33m)\u001B[0m\u001B[1;33m\u001B[0m\u001B[1;33m\u001B[0m\u001B[0m\n\u001B[0m\u001B[0;32m    113\u001B[0m         \u001B[0mself\u001B[0m\u001B[1;33m.\u001B[0m\u001B[0mstate\u001B[0m \u001B[1;33m=\u001B[0m \u001B[1;33m(\u001B[0m\u001B[0munitary_op\u001B[0m \u001B[1;33m*\u001B[0m \u001B[0mself\u001B[0m\u001B[1;33m.\u001B[0m\u001B[0mstate\u001B[0m\u001B[1;33m)\u001B[0m\u001B[1;33m.\u001B[0m\u001B[0munit\u001B[0m\u001B[1;33m(\u001B[0m\u001B[1;33m)\u001B[0m\u001B[1;33m\u001B[0m\u001B[1;33m\u001B[0m\u001B[0m\n\u001B[0;32m    114\u001B[0m \u001B[1;33m\u001B[0m\u001B[0m\n",
      "\u001B[1;32mD:\\Daniel\\University\\M.A\\Courses\\Practical ML\\HW\\ML_2021_quantum_control\\simulation.py\u001B[0m in \u001B[0;36mfidelity\u001B[1;34m(self)\u001B[0m\n\u001B[0;32m     82\u001B[0m         \u001B[1;33m:\u001B[0m\u001B[1;32mreturn\u001B[0m\u001B[1;33m:\u001B[0m \u001B[0mF\u001B[0m\u001B[1;33m(\u001B[0m\u001B[1;33m|\u001B[0m\u001B[0mψ\u001B[0m\u001B[1;33m>\u001B[0m\u001B[1;33m,\u001B[0m\u001B[1;33m|\u001B[0m\u001B[1;36m1\u001B[0m\u001B[1;33m>\u001B[0m\u001B[1;33m)\u001B[0m \u001B[0mof\u001B[0m \u001B[0mtype\u001B[0m \u001B[0mfloat\u001B[0m\u001B[1;33m.\u001B[0m\u001B[1;33m\u001B[0m\u001B[1;33m\u001B[0m\u001B[0m\n\u001B[0;32m     83\u001B[0m         \"\"\"\n\u001B[1;32m---> 84\u001B[1;33m         \u001B[1;32mreturn\u001B[0m \u001B[0mqt\u001B[0m\u001B[1;33m.\u001B[0m\u001B[0mfidelity\u001B[0m\u001B[1;33m(\u001B[0m\u001B[0mself\u001B[0m\u001B[1;33m.\u001B[0m\u001B[0mstate\u001B[0m\u001B[1;33m,\u001B[0m \u001B[0mqt\u001B[0m\u001B[1;33m.\u001B[0m\u001B[0mbasis\u001B[0m\u001B[1;33m(\u001B[0m\u001B[1;36m2\u001B[0m\u001B[1;33m,\u001B[0m \u001B[1;36m1\u001B[0m\u001B[1;33m)\u001B[0m\u001B[1;33m)\u001B[0m\u001B[1;33m\u001B[0m\u001B[1;33m\u001B[0m\u001B[0m\n\u001B[0m\u001B[0;32m     85\u001B[0m \u001B[1;33m\u001B[0m\u001B[0m\n\u001B[0;32m     86\u001B[0m     \u001B[1;32mdef\u001B[0m \u001B[0mstep\u001B[0m\u001B[1;33m(\u001B[0m\u001B[0mself\u001B[0m\u001B[1;33m,\u001B[0m \u001B[0maction\u001B[0m\u001B[1;33m)\u001B[0m\u001B[1;33m:\u001B[0m\u001B[1;33m\u001B[0m\u001B[1;33m\u001B[0m\u001B[0m\n",
      "\u001B[1;32mc:\\users\\danie\\appdata\\local\\programs\\python\\python38\\lib\\site-packages\\qutip\\metrics.py\u001B[0m in \u001B[0;36mfidelity\u001B[1;34m(A, B)\u001B[0m\n\u001B[0;32m     90\u001B[0m         \u001B[1;31m# Check whether we have to turn B into a density operator, too.\u001B[0m\u001B[1;33m\u001B[0m\u001B[1;33m\u001B[0m\u001B[1;33m\u001B[0m\u001B[0m\n\u001B[0;32m     91\u001B[0m         \u001B[1;32mif\u001B[0m \u001B[0mB\u001B[0m\u001B[1;33m.\u001B[0m\u001B[0misket\u001B[0m \u001B[1;32mor\u001B[0m \u001B[0mB\u001B[0m\u001B[1;33m.\u001B[0m\u001B[0misbra\u001B[0m\u001B[1;33m:\u001B[0m\u001B[1;33m\u001B[0m\u001B[1;33m\u001B[0m\u001B[0m\n\u001B[1;32m---> 92\u001B[1;33m             \u001B[0mB\u001B[0m \u001B[1;33m=\u001B[0m \u001B[0mket2dm\u001B[0m\u001B[1;33m(\u001B[0m\u001B[0mB\u001B[0m\u001B[1;33m)\u001B[0m\u001B[1;33m\u001B[0m\u001B[1;33m\u001B[0m\u001B[0m\n\u001B[0m\u001B[0;32m     93\u001B[0m     \u001B[1;32melse\u001B[0m\u001B[1;33m:\u001B[0m\u001B[1;33m\u001B[0m\u001B[1;33m\u001B[0m\u001B[0m\n\u001B[0;32m     94\u001B[0m         \u001B[1;32mif\u001B[0m \u001B[0mB\u001B[0m\u001B[1;33m.\u001B[0m\u001B[0misket\u001B[0m \u001B[1;32mor\u001B[0m \u001B[0mB\u001B[0m\u001B[1;33m.\u001B[0m\u001B[0misbra\u001B[0m\u001B[1;33m:\u001B[0m\u001B[1;33m\u001B[0m\u001B[1;33m\u001B[0m\u001B[0m\n",
      "\u001B[1;32mc:\\users\\danie\\appdata\\local\\programs\\python\\python38\\lib\\site-packages\\qutip\\states.py\u001B[0m in \u001B[0;36mket2dm\u001B[1;34m(Q)\u001B[0m\n\u001B[0;32m    515\u001B[0m     \u001B[1;32melse\u001B[0m\u001B[1;33m:\u001B[0m\u001B[1;33m\u001B[0m\u001B[1;33m\u001B[0m\u001B[0m\n\u001B[0;32m    516\u001B[0m         \u001B[1;32mraise\u001B[0m \u001B[0mTypeError\u001B[0m\u001B[1;33m(\u001B[0m\u001B[1;34m\"Input is not a ket or bra vector.\"\u001B[0m\u001B[1;33m)\u001B[0m\u001B[1;33m\u001B[0m\u001B[1;33m\u001B[0m\u001B[0m\n\u001B[1;32m--> 517\u001B[1;33m     \u001B[1;32mreturn\u001B[0m \u001B[0mQobj\u001B[0m\u001B[1;33m(\u001B[0m\u001B[0mout\u001B[0m\u001B[1;33m)\u001B[0m\u001B[1;33m\u001B[0m\u001B[1;33m\u001B[0m\u001B[0m\n\u001B[0m\u001B[0;32m    518\u001B[0m \u001B[1;33m\u001B[0m\u001B[0m\n\u001B[0;32m    519\u001B[0m \u001B[1;33m\u001B[0m\u001B[0m\n",
      "\u001B[1;32mc:\\users\\danie\\appdata\\local\\programs\\python\\python38\\lib\\site-packages\\qutip\\qobj.py\u001B[0m in \u001B[0;36m__init__\u001B[1;34m(self, inpt, dims, shape, type, isherm, copy, fast, superrep, isunitary)\u001B[0m\n\u001B[0;32m    247\u001B[0m             \u001B[1;31m# if input is already Qobj then return identical copy\u001B[0m\u001B[1;33m\u001B[0m\u001B[1;33m\u001B[0m\u001B[1;33m\u001B[0m\u001B[0m\n\u001B[0;32m    248\u001B[0m \u001B[1;33m\u001B[0m\u001B[0m\n\u001B[1;32m--> 249\u001B[1;33m             self._data = fast_csr_matrix(\n\u001B[0m\u001B[0;32m    250\u001B[0m                 \u001B[1;33m(\u001B[0m\u001B[0minpt\u001B[0m\u001B[1;33m.\u001B[0m\u001B[0mdata\u001B[0m\u001B[1;33m.\u001B[0m\u001B[0mdata\u001B[0m\u001B[1;33m,\u001B[0m \u001B[0minpt\u001B[0m\u001B[1;33m.\u001B[0m\u001B[0mdata\u001B[0m\u001B[1;33m.\u001B[0m\u001B[0mindices\u001B[0m\u001B[1;33m,\u001B[0m \u001B[0minpt\u001B[0m\u001B[1;33m.\u001B[0m\u001B[0mdata\u001B[0m\u001B[1;33m.\u001B[0m\u001B[0mindptr\u001B[0m\u001B[1;33m)\u001B[0m\u001B[1;33m,\u001B[0m\u001B[1;33m\u001B[0m\u001B[1;33m\u001B[0m\u001B[0m\n\u001B[0;32m    251\u001B[0m                 \u001B[0mshape\u001B[0m\u001B[1;33m=\u001B[0m\u001B[0minpt\u001B[0m\u001B[1;33m.\u001B[0m\u001B[0mshape\u001B[0m\u001B[1;33m,\u001B[0m \u001B[0mcopy\u001B[0m\u001B[1;33m=\u001B[0m\u001B[0mcopy\u001B[0m\u001B[1;33m,\u001B[0m\u001B[1;33m\u001B[0m\u001B[1;33m\u001B[0m\u001B[0m\n",
      "\u001B[1;32mc:\\users\\danie\\appdata\\local\\programs\\python\\python38\\lib\\site-packages\\qutip\\fastsparse.py\u001B[0m in \u001B[0;36m__init__\u001B[1;34m(self, args, shape, dtype, copy)\u001B[0m\n\u001B[0;32m     62\u001B[0m                 \u001B[1;32mraise\u001B[0m \u001B[0mTypeError\u001B[0m\u001B[1;33m(\u001B[0m\u001B[1;34m'fast_csr_matrix allows only int32 indptr.'\u001B[0m\u001B[1;33m)\u001B[0m\u001B[1;33m\u001B[0m\u001B[1;33m\u001B[0m\u001B[0m\n\u001B[0;32m     63\u001B[0m             \u001B[0mself\u001B[0m\u001B[1;33m.\u001B[0m\u001B[0mdata\u001B[0m \u001B[1;33m=\u001B[0m \u001B[0mnp\u001B[0m\u001B[1;33m.\u001B[0m\u001B[0marray\u001B[0m\u001B[1;33m(\u001B[0m\u001B[0margs\u001B[0m\u001B[1;33m[\u001B[0m\u001B[1;36m0\u001B[0m\u001B[1;33m]\u001B[0m\u001B[1;33m,\u001B[0m \u001B[0mdtype\u001B[0m\u001B[1;33m=\u001B[0m\u001B[0mcomplex\u001B[0m\u001B[1;33m,\u001B[0m \u001B[0mcopy\u001B[0m\u001B[1;33m=\u001B[0m\u001B[0mcopy\u001B[0m\u001B[1;33m)\u001B[0m\u001B[1;33m\u001B[0m\u001B[1;33m\u001B[0m\u001B[0m\n\u001B[1;32m---> 64\u001B[1;33m             \u001B[0mself\u001B[0m\u001B[1;33m.\u001B[0m\u001B[0mindices\u001B[0m \u001B[1;33m=\u001B[0m \u001B[0mnp\u001B[0m\u001B[1;33m.\u001B[0m\u001B[0marray\u001B[0m\u001B[1;33m(\u001B[0m\u001B[0margs\u001B[0m\u001B[1;33m[\u001B[0m\u001B[1;36m1\u001B[0m\u001B[1;33m]\u001B[0m\u001B[1;33m,\u001B[0m \u001B[0mdtype\u001B[0m\u001B[1;33m=\u001B[0m\u001B[0mnp\u001B[0m\u001B[1;33m.\u001B[0m\u001B[0mint32\u001B[0m\u001B[1;33m,\u001B[0m \u001B[0mcopy\u001B[0m\u001B[1;33m=\u001B[0m\u001B[0mcopy\u001B[0m\u001B[1;33m)\u001B[0m\u001B[1;33m\u001B[0m\u001B[1;33m\u001B[0m\u001B[0m\n\u001B[0m\u001B[0;32m     65\u001B[0m             \u001B[0mself\u001B[0m\u001B[1;33m.\u001B[0m\u001B[0mindptr\u001B[0m \u001B[1;33m=\u001B[0m \u001B[0mnp\u001B[0m\u001B[1;33m.\u001B[0m\u001B[0marray\u001B[0m\u001B[1;33m(\u001B[0m\u001B[0margs\u001B[0m\u001B[1;33m[\u001B[0m\u001B[1;36m2\u001B[0m\u001B[1;33m]\u001B[0m\u001B[1;33m,\u001B[0m \u001B[0mdtype\u001B[0m\u001B[1;33m=\u001B[0m\u001B[0mnp\u001B[0m\u001B[1;33m.\u001B[0m\u001B[0mint32\u001B[0m\u001B[1;33m,\u001B[0m \u001B[0mcopy\u001B[0m\u001B[1;33m=\u001B[0m\u001B[0mcopy\u001B[0m\u001B[1;33m)\u001B[0m\u001B[1;33m\u001B[0m\u001B[1;33m\u001B[0m\u001B[0m\n\u001B[0;32m     66\u001B[0m             \u001B[1;32mif\u001B[0m \u001B[0mshape\u001B[0m \u001B[1;32mis\u001B[0m \u001B[1;32mNone\u001B[0m\u001B[1;33m:\u001B[0m\u001B[1;33m\u001B[0m\u001B[1;33m\u001B[0m\u001B[0m\n",
      "\u001B[1;31mKeyboardInterrupt\u001B[0m: "
     ]
    }
   ]
  },
  {
   "cell_type": "code",
   "metadata": {
    "id": "Z1Rwe1KNjjdO",
    "colab": {
     "base_uri": "https://localhost:8080/"
    },
    "outputId": "dd731e15-2a08-48f4-c669-b84e571a3e2e"
   },
   "source": [
    "state, prev_state = env.reset(), None\n",
    "\n",
    "state = torch.tensor(state, dtype=torch.float).unsqueeze(0)\n",
    "prev_state = state\n",
    "\n",
    "expect_sigma_x = list()\n",
    "expect_sigma_y = list()\n",
    "expect_sigma_z = list()\n",
    "omega = list()\n",
    "amp = list()\n",
    "theta = [0]\n",
    "\n",
    "while True:\n",
    "    action, action_p = net.sample_action(state, prev_state)\n",
    "    new_state, reward, done, info = env.step(action)\n",
    "    state = torch.tensor(new_state, dtype=torch.float).view(-1).unsqueeze(0)\n",
    "    expect_sigma_x.append(state[0][-3])\n",
    "    expect_sigma_y.append(state[0][-2])\n",
    "    expect_sigma_z.append(state[0][-1])\n",
    "    omega.append(state[0][3].item())\n",
    "    amp.append(np.sqrt(state[0][0]**2 + state[0][1]**2 +state[0][2]**2).item())\n",
    "    theta.append(theta[-1] + state[0][3].item() * dt)\n",
    "    if done:\n",
    "      break\n",
    "\n",
    "times = np.array(range(len(expect_sigma_z)))*dt\n",
    "\n",
    "plt.plot(times, expect_sigma_z, label=r\"$\\sigma_{z}$\")\n",
    "plt.plot(times, omega, label=r\"$\\omega$\")\n",
    "# plt.plot(times, theta[0:-1], label=r\"$\\theta$\")\n",
    "plt.plot(times, amp, label=\"Amp\")\n",
    "plt.xlabel('Sim. time')\n",
    "plt.legend()\n",
    "plt.show()"
   ],
   "id": "Z1Rwe1KNjjdO",
   "execution_count": null,
   "outputs": []
  },
  {
   "cell_type": "code",
   "execution_count": null,
   "outputs": [],
   "source": [
    "steps = 20\n",
    "phi = np.linspace(0, np.pi, steps)\n",
    "theta = np.linspace(0, 2 * np.pi, steps)\n",
    "phi, theta = np.meshgrid(phi, theta)\n",
    "\n",
    "# The Cartesian coordinates of the unit sphere\n",
    "x = np.sin(phi) * np.cos(theta)\n",
    "y = np.sin(phi) * np.sin(theta)\n",
    "z = np.cos(phi)\n",
    "\n",
    "# draw game trajectory\n",
    "# Set the aspect ratio to 1 so our sphere looks spherical\n",
    "fig = plt.figure(figsize=plt.figaspect(1.))\n",
    "axes = [fig.add_subplot(111, projection='3d')]\n",
    "\n",
    "[ax.set_box_aspect([1.1, 1.1, 1]) for ax in axes]\n",
    "\n",
    "# plot Bloch sphere and points\n",
    "s_x = np.array(expect_sigma_x)\n",
    "s_y = np.array(expect_sigma_y)\n",
    "s_z = np.array(expect_sigma_z)\n",
    "colors = np.linspace(0, 1, len(s_x))\n",
    "\n",
    "[ax.plot_surface(x, y, z, alpha=0.2, cmap='bone', edgecolor='black', linewidth=0.25) for ax in axes]\n",
    "axes[0].scatter(s_x, s_y, s_z, s=50, c=colors, cmap='Reds', edgecolors='black')\n",
    "\n",
    "# add lines\n",
    "[ax.plot([-1, 1], [0, 0], [0, 0], color='k') for ax in axes]\n",
    "[ax.plot([0, 0], [-1, 1], [0, 0], color='k') for ax in axes]\n",
    "[ax.plot([0, 0], [0, 0], [-1, 1], color='k') for ax in axes]\n",
    "\n",
    "# add text\n",
    "[ax.text(0, 0, 1.2, r'$\\left|+,z\\right\\rangle$') for ax in axes]\n",
    "[ax.text(0, 0, -1.2, r'$\\left|-,z\\right\\rangle$') for ax in axes]\n",
    "[ax.text(1.1, 0, 0, r'$\\left|+,x\\right\\rangle$') for ax in axes]\n",
    "[ax.text(-1.55, 0, 0, r'$\\left|-,x\\right\\rangle$') for ax in axes]\n",
    "[ax.text(0, 1.1, 0, r'$\\left|+,y\\right\\rangle$') for ax in axes]\n",
    "[ax.text(0, -1.2, 0, r'$\\left|-,y\\right\\rangle$') for ax in axes]\n",
    "\n",
    "[ax.axis('off') for ax in axes]\n",
    "plt.show()"
   ],
   "metadata": {
    "collapsed": false,
    "pycharm": {
     "name": "#%%\n"
    }
   }
  },
  {
   "cell_type": "code",
   "execution_count": null,
   "outputs": [],
   "source": [],
   "metadata": {
    "collapsed": false,
    "pycharm": {
     "name": "#%%\n"
    }
   }
  }
 ]
}