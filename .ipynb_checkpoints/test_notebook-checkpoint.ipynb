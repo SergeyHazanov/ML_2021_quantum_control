{
 "nbformat": 4,
 "nbformat_minor": 5,
 "metadata": {
  "kernelspec": {
   "display_name": "Python 3",
   "language": "python",
   "name": "python3"
  },
  "language_info": {
   "codemirror_mode": {
    "name": "ipython",
    "version": 3
   },
   "file_extension": ".py",
   "mimetype": "text/x-python",
   "name": "python",
   "nbconvert_exporter": "python",
   "pygments_lexer": "ipython3",
   "version": "3.8.8"
  },
  "colab": {
   "name": "Copy of test_notebook.ipynb",
   "provenance": [],
   "collapsed_sections": []
  }
 },
 "cells": [
  {
   "cell_type": "markdown",
   "metadata": {
    "id": "R_CSeWctXTkU"
   },
   "source": [
    "# Preparation"
   ],
   "id": "R_CSeWctXTkU"
  },
  {
   "cell_type": "markdown",
   "metadata": {
    "id": "6DORZ2ML7ctV"
   },
   "source": [
    "## Directory and imports"
   ],
   "id": "6DORZ2ML7ctV"
  },
  {
   "cell_type": "code",
   "metadata": {
    "colab": {
     "base_uri": "https://localhost:8080/"
    },
    "id": "46bd8eef-db8d-4bc4-afb5-36a693da3048",
    "outputId": "200d1917-2b4f-4419-dc77-fb4ec86b252e"
   },
   "source": [
    "# from google.colab import drive\n",
    "# drive.mount('/gdrive')\n",
    "# %cd /gdrive/MyDrive/Courses/yearE/ML/ML_2021_quantum_control"
   ],
   "id": "46bd8eef-db8d-4bc4-afb5-36a693da3048",
   "execution_count": 193,
   "outputs": []
  },
  {
   "cell_type": "code",
   "metadata": {
    "colab": {
     "base_uri": "https://localhost:8080/"
    },
    "id": "YieS78DMVTWC",
    "outputId": "252d7e03-d0c8-416b-cbc1-8398aa8c37b7"
   },
   "source": [
    "# !pip install qutip"
   ],
   "id": "YieS78DMVTWC",
   "execution_count": 194,
   "outputs": []
  },
  {
   "cell_type": "code",
   "metadata": {
    "id": "tCvDMh13m5XK"
   },
   "source": [
    "%load_ext autoreload\n",
    "%autoreload 2"
   ],
   "id": "tCvDMh13m5XK",
   "execution_count": 195,
   "outputs": [
    {
     "name": "stdout",
     "output_type": "stream",
     "text": [
      "The autoreload extension is already loaded. To reload it, use:\n",
      "  %reload_ext autoreload\n"
     ]
    }
   ]
  },
  {
   "cell_type": "markdown",
   "metadata": {
    "id": "_i_Sqa0h8jDD"
   },
   "source": [
    "# Training"
   ],
   "id": "_i_Sqa0h8jDD"
  },
  {
   "cell_type": "markdown",
   "metadata": {
    "id": "Ll9q-173XOzy"
   },
   "source": [
    "## Imports"
   ],
   "id": "Ll9q-173XOzy"
  },
  {
   "cell_type": "code",
   "metadata": {
    "id": "XekHLrsr9SOL"
   },
   "source": [
    "from DataLoader import GamesMemoryBank\n",
    "from policy_loss import PolicyLoss\n",
    "from Model import PolicyNetwork, NET_INPUT_SIZE\n",
    "from simulation import QuantumEnvironment \n",
    "\n",
    "import torch\n",
    "from tqdm import tqdm\n",
    "from IPython.display import clear_output\n",
    "import matplotlib.pyplot as plt\n",
    "import numpy as np\n",
    "from scipy.ndimage import uniform_filter1d\n",
    "from os.path import isfile\n",
    "\n",
    "plt.style.use({'figure.facecolor': 'white'})"
   ],
   "id": "XekHLrsr9SOL",
   "execution_count": 196,
   "outputs": []
  },
  {
   "cell_type": "markdown",
   "metadata": {
    "id": "Jqtfoa8qZJ3E"
   },
   "source": [
    "## Initialization"
   ],
   "id": "Jqtfoa8qZJ3E"
  },
  {
   "cell_type": "markdown",
   "metadata": {
    "id": "ztxKbjtXbCMd"
   },
   "source": [
    "### Constants"
   ],
   "id": "ztxKbjtXbCMd"
  },
  {
   "cell_type": "code",
   "metadata": {
    "id": "v7UWy-nUbIez"
   },
   "source": [
    "n_epochs = 300\n",
    "games_per_epoch = 10\n",
    "batch_size = 24000\n",
    "num_batches = 5\n",
    "learning_rate = 1e-3"
   ],
   "id": "v7UWy-nUbIez",
   "execution_count": 197,
   "outputs": []
  },
  {
   "cell_type": "markdown",
   "metadata": {
    "id": "Q9HYxwPmbGN0"
   },
   "source": [
    "### Classes"
   ],
   "id": "Q9HYxwPmbGN0"
  },
  {
   "cell_type": "code",
   "metadata": {
    "id": "QHBuj6YrZMG2"
   },
   "source": [
    "env = QuantumEnvironment(energy_gap=1, runtime=15, dt=0.01)\n",
    "\n",
    "loss_func = PolicyLoss()\n",
    "net = PolicyNetwork()\n",
    "\n",
    "model_name = 'trained_model.pt'\n",
    "# If such a previous model exists\n",
    "# if isfile(model_name):\n",
    "    # net.load_state_dict(torch.load(model_name))\n",
    "\n",
    "memory_bank = GamesMemoryBank()\n",
    "optimizer = torch.optim.Adam(net.parameters(), lr=learning_rate)"
   ],
   "id": "QHBuj6YrZMG2",
   "execution_count": 198,
   "outputs": []
  },
  {
   "cell_type": "markdown",
   "metadata": {
    "id": "1Yzgw63bast-"
   },
   "source": [
    "## Training loop"
   ],
   "id": "1Yzgw63bast-"
  },
  {
   "cell_type": "code",
   "metadata": {
    "colab": {
     "base_uri": "https://localhost:8080/"
    },
    "id": "97CtUujqauYb",
    "outputId": "46f55660-72b2-4d29-e5b8-b5d34d0beabe"
   },
   "source": [
    "final_fidelity = []\n",
    "running_mean_fid = []\n",
    "losses = []\n",
    "rewards = []\n",
    "discounted_rewards = []\n",
    "\n",
    "for epoch in tqdm(range(n_epochs)):\n",
    "    \n",
    "    memory_bank.clear_memory()\n",
    "    \n",
    "    net.eval()\n",
    "    net.cpu()\n",
    "    \n",
    "    for game_i in range(games_per_epoch):\n",
    "\n",
    "        state = env.reset()\n",
    "\n",
    "        state = torch.tensor(state, dtype=torch.float).unsqueeze(0)\n",
    "        prev_state = state\n",
    "\n",
    "        points_in_game = 0\n",
    "\n",
    "        while True:\n",
    "            with torch.no_grad():\n",
    "                action, action_p = net.sample_action(state)\n",
    "\n",
    "            new_state, reward, done, info = env.step(action)\n",
    "            memory_bank.add_event(state, action, action_p, reward)\n",
    "            \n",
    "            prev_state = state\n",
    "            state = torch.tensor(new_state, dtype=torch.float).view(-1).unsqueeze(0)\n",
    "\n",
    "            if done:\n",
    "                final_fidelity.append(env.fidelity())\n",
    "                break\n",
    "\n",
    "    memory_bank.compute_reward_history()\n",
    "    \n",
    "    clear_output(wait=True)\n",
    "    running_mean_fid = uniform_filter1d(final_fidelity, 50)\n",
    "    mean_fid = np.mean(final_fidelity[-games_per_epoch:])\n",
    "    mean_fid = str(mean_fid)[:5]\n",
    "    plt.title('epoch ' + str(epoch)\n",
    "                       + ' mean fidelity in last '\n",
    "                       + str(games_per_epoch)\n",
    "                       + ' simulations '\n",
    "                       + mean_fid)\n",
    "    plt.plot(final_fidelity, label='Fidelity')\n",
    "    plt.plot(running_mean_fid, label='Running Mean', color='red')\n",
    "    plt.legend()\n",
    "    plt.show()\n",
    "\n",
    "    net.train()\n",
    "    \n",
    "    for batch_i in range(num_batches):\n",
    "        optimizer.zero_grad()\n",
    "\n",
    "        state, action, action_p, reward, discounted_reward = memory_bank.get_sample(batch_size)\n",
    "        state = state.view((state.shape[0], NET_INPUT_SIZE))\n",
    "        \n",
    "        logits = net(state)\n",
    "\n",
    "        loss = loss_func(logits, action, action_p, discounted_reward)\n",
    "        losses.append(loss.item())\n",
    "        loss.backward()\n",
    "        optimizer.step()\n",
    "\n",
    "        losses.append(loss.item())\n",
    "        rewards.append(torch.mean(reward).item())\n",
    "        discounted_rewards.append(torch.mean(discounted_reward).item())\n",
    "\n",
    "\n",
    "    fig, ax = plt.subplots(2,1)\n",
    "    ax[0].plot(losses, label='loss')\n",
    "    ax[1].plot(rewards, label='rewards')\n",
    "    ax[1].plot(discounted_rewards, label='discounted rewards')\n",
    "    ax[0].legend()\n",
    "    ax[1].legend()\n",
    "    plt.show()\n",
    "\n",
    "    torch.save(net.state_dict(), model_name)"
   ],
   "id": "97CtUujqauYb",
   "execution_count": 199,
   "outputs": [
    {
     "data": {
      "text/plain": "<Figure size 432x288 with 1 Axes>",
      "image/png": "[encoded data removed]"
     },
     "metadata": {},
     "output_type": "display_data"
    },
    {
     "data": {
      "text/plain": "<Figure size 432x288 with 2 Axes>",
      "image/png": "[encoded data removed]"
     },
     "metadata": {},
     "output_type": "display_data"
    },
    {
     "name": "stderr",
     "output_type": "stream",
     "text": [
      " 10%|▉         | 29/300 [00:20<03:09,  1.43it/s]\n"
     ]
    },
    {
     "ename": "KeyboardInterrupt",
     "evalue": "",
     "output_type": "error",
     "traceback": [
      "\u001B[1;31m---------------------------------------------------------------------------\u001B[0m",
      "\u001B[1;31mKeyboardInterrupt\u001B[0m                         Traceback (most recent call last)",
      "\u001B[1;32m~\\AppData\\Local\\Temp/ipykernel_18372/1174629125.py\u001B[0m in \u001B[0;36m<module>\u001B[1;34m\u001B[0m\n\u001B[0;32m     29\u001B[0m \u001B[1;33m\u001B[0m\u001B[0m\n\u001B[0;32m     30\u001B[0m             \u001B[0mprev_state\u001B[0m \u001B[1;33m=\u001B[0m \u001B[0mstate\u001B[0m\u001B[1;33m\u001B[0m\u001B[1;33m\u001B[0m\u001B[0m\n\u001B[1;32m---> 31\u001B[1;33m             \u001B[0mstate\u001B[0m \u001B[1;33m=\u001B[0m \u001B[0mtorch\u001B[0m\u001B[1;33m.\u001B[0m\u001B[0mtensor\u001B[0m\u001B[1;33m(\u001B[0m\u001B[0mnew_state\u001B[0m\u001B[1;33m,\u001B[0m \u001B[0mdtype\u001B[0m\u001B[1;33m=\u001B[0m\u001B[0mtorch\u001B[0m\u001B[1;33m.\u001B[0m\u001B[0mfloat\u001B[0m\u001B[1;33m)\u001B[0m\u001B[1;33m.\u001B[0m\u001B[0mview\u001B[0m\u001B[1;33m(\u001B[0m\u001B[1;33m-\u001B[0m\u001B[1;36m1\u001B[0m\u001B[1;33m)\u001B[0m\u001B[1;33m.\u001B[0m\u001B[0munsqueeze\u001B[0m\u001B[1;33m(\u001B[0m\u001B[1;36m0\u001B[0m\u001B[1;33m)\u001B[0m\u001B[1;33m\u001B[0m\u001B[1;33m\u001B[0m\u001B[0m\n\u001B[0m\u001B[0;32m     32\u001B[0m \u001B[1;33m\u001B[0m\u001B[0m\n\u001B[0;32m     33\u001B[0m             \u001B[1;32mif\u001B[0m \u001B[0mdone\u001B[0m\u001B[1;33m:\u001B[0m\u001B[1;33m\u001B[0m\u001B[1;33m\u001B[0m\u001B[0m\n",
      "\u001B[1;31mKeyboardInterrupt\u001B[0m: "
     ]
    }
   ]
  },
  {
   "cell_type": "code",
   "execution_count": null,
   "outputs": [],
   "source": [
    "plt.plot(losses)\n",
    "plt.show()"
   ],
   "metadata": {
    "collapsed": false,
    "pycharm": {
     "name": "#%%\n"
    }
   }
  },
  {
   "cell_type": "code",
   "metadata": {
    "id": "Z1Rwe1KNjjdO",
    "colab": {
     "base_uri": "https://localhost:8080/"
    },
    "outputId": "dd731e15-2a08-48f4-c669-b84e571a3e2e"
   },
   "source": [
    "state, prev_state = env.reset(), None\n",
    "\n",
    "state = torch.tensor(state, dtype=torch.float).unsqueeze(0)\n",
    "prev_state = state\n",
    "\n",
    "z = list()\n",
    "omega = list()\n",
    "amp = list()\n",
    "\n",
    "while True:\n",
    "    action, action_p = net.sample_action(state)\n",
    "    new_state, reward, done, info = env.step(action)\n",
    "    state = torch.tensor(new_state, dtype=torch.float).view(-1).unsqueeze(0)\n",
    "    z.append(state[0][-1])\n",
    "    curr_amp = np.sqrt(state[0][0]**2 + state[0][1]**2 + state[0][2]**2)\n",
    "    amp.append(curr_amp)\n",
    "    omega.append(state[0][3])\n",
    "    if done:\n",
    "        break"
   ],
   "id": "Z1Rwe1KNjjdO",
   "execution_count": null,
   "outputs": []
  },
  {
   "cell_type": "code",
   "metadata": {
    "id": "NJYMqDYLc9dw",
    "colab": {
     "base_uri": "https://localhost:8080/",
     "height": 265
    },
    "outputId": "1c8bf64b-374d-493b-eacf-f710d6cdcfd6"
   },
   "source": [
    "times = np.arange(0, 15, 0.01)\n",
    "fig, axes = plt.subplots(2)\n",
    "axes[0].plot(times, z, label=r'$\\sigma_z$')\n",
    "axes[0].plot(times, np.array(omega), label=r'omega')\n",
    "\n",
    "axes[1].plot(times, amp, label=r'amp')\n",
    "\n",
    "# plt.plot(T, z, label=\"sigmaz\")\n",
    "# plt.plot(T, np.array(omega), label=\"omega\")\n",
    "# plt.plot(T, amp)\n",
    "axes[0].legend()\n",
    "axes[1].legend()\n",
    "\n",
    "plt.show()"
   ],
   "id": "NJYMqDYLc9dw",
   "execution_count": null,
   "outputs": []
  },
  {
   "cell_type": "code",
   "execution_count": null,
   "outputs": [],
   "source": [],
   "metadata": {
    "collapsed": false,
    "pycharm": {
     "name": "#%%\n"
    }
   }
  }
 ]
}